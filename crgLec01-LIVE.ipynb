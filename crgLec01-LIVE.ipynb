{
 "cells": [
  {
   "cell_type": "markdown",
   "metadata": {},
   "source": [
    "# Lecture 1 Live Exercises\n",
    "\n",
    "## Lecture 1 Recap\n",
    "\n",
    "In Lecture 1 we talked about\n",
    "\n",
    "- Variable Assignment, which is an example of a **definition**\n",
    "- Arithmetical Commands, which are examples of **commands**\n",
    "    - Addition ``+``\n",
    "    - Subtraction ``-``\n",
    "    - Multiplication ``*``\n",
    "    - Division ``/``\n",
    "    - Exponentiation ``**``\n",
    "- The `print` command\n",
    "- Object Types and type conversion\n",
    "    - ``int``\n",
    "    - ``float``\n",
    "    - ``bool``\n",
    "    - ``None``\n",
    "- Overloading\n",
    "- Defining functions\n",
    "- The `input` function"
   ]
  },
  {
   "cell_type": "markdown",
   "metadata": {},
   "source": [
    "## Conceptual Questions\n",
    "\n",
    "### Q1: Python Programs\n",
    "\n",
    "What is a program? What makes a Python program special?"
   ]
  },
  {
   "cell_type": "code",
   "execution_count": null,
   "metadata": {},
   "outputs": [],
   "source": []
  },
  {
   "cell_type": "markdown",
   "metadata": {},
   "source": [
    "### Q2: Overloading\n",
    "\n",
    "Explain the concept of overloading.\n"
   ]
  },
  {
   "cell_type": "code",
   "execution_count": null,
   "metadata": {},
   "outputs": [],
   "source": []
  },
  {
   "cell_type": "markdown",
   "metadata": {},
   "source": [
    "## Coding Practice \n",
    "\n",
    "### Q1: Variable Assignments and Print Function\n",
    "\n",
    "Assign number 3 and 17 to variables, x and y. Use the print function and variables x and y to print \"The sum of 3 and 17 is 20.\"  "
   ]
  },
  {
   "cell_type": "code",
   "execution_count": 25,
   "metadata": {},
   "outputs": [
    {
     "name": "stdout",
     "output_type": "stream",
     "text": [
      "The sum of 3 and 17 is 20.\n"
     ]
    }
   ],
   "source": [
    "x=3\n",
    "y=17\n",
    "\n",
    "print(\"The sum of \"+str(x)+\" and \"+str(y)+\" is \"+str(x+y)+\".\")"
   ]
  },
  {
   "cell_type": "markdown",
   "metadata": {},
   "source": [
    "### Q2: The Input Function \n",
    "#### Part A\n",
    "Write a program that uses the `input` function to take in two numbers $b,h$ as the base and height of a right triangle, and computes the area of that triangle. "
   ]
  },
  {
   "cell_type": "code",
   "execution_count": 6,
   "metadata": {},
   "outputs": [
    {
     "name": "stdout",
     "output_type": "stream",
     "text": [
      "Enter a base: 2\n",
      "Enter a height: 3\n",
      "the area of a triangle with base:  2.0  and height:  3.0  is:  3.0\n"
     ]
    }
   ],
   "source": [
    "b = float(input('Enter a base: '))\n",
    "h = float(input('Enter a height: '))\n",
    "area = 0.5*b*h\n",
    "print('the area of a triangle with base: ', b, ' and height: ', h, ' is: ', area)"
   ]
  },
  {
   "cell_type": "markdown",
   "metadata": {},
   "source": [
    "#### Part B\n",
    "\n",
    "Modify this so that the output is always an integer"
   ]
  },
  {
   "cell_type": "code",
   "execution_count": 10,
   "metadata": {},
   "outputs": [
    {
     "name": "stdout",
     "output_type": "stream",
     "text": [
      "Enter a base: 5\n",
      "Enter a height: 9\n",
      "the area of a triangle with base:  5.0  and height:  9.0  is:  22\n"
     ]
    }
   ],
   "source": [
    "b = float(input('Enter a base: '))\n",
    "h = float(input('Enter a height: '))\n",
    "area = 0.5*b*h\n",
    "print('the area of a triangle with base: ', b, ' and height: ', h, ' is: ', int(area))"
   ]
  },
  {
   "cell_type": "markdown",
   "metadata": {},
   "source": [
    "#### Part C\n",
    "\n",
    "Rewrite Part A to use a function with a `return` statement."
   ]
  },
  {
   "cell_type": "code",
   "execution_count": 13,
   "metadata": {},
   "outputs": [
    {
     "name": "stdout",
     "output_type": "stream",
     "text": [
      "Enter a base: 22\n",
      "Enter a height: 11\n",
      "the area of a triangle with base:  22.0  and height:  11.0  is:  121.0\n"
     ]
    }
   ],
   "source": [
    "def triArea(base, height):\n",
    "    area = 0.5*base*height\n",
    "    return (area)\n",
    "\n",
    "b = float(input('Enter a base: '))\n",
    "h = float(input('Enter a height: '))\n",
    "marea = triArea(b,h)\n",
    "\n",
    "print('the area of a triangle with base: ', b, ' and height: ', h, ' is: ', marea)"
   ]
  },
  {
   "cell_type": "markdown",
   "metadata": {},
   "source": [
    "### Q3: Converting from Fahrenheit to Celsius \n",
    "\n",
    "Write a function that converts an input temperature in Fahrenheit to Celsius."
   ]
  },
  {
   "cell_type": "code",
   "execution_count": 16,
   "metadata": {},
   "outputs": [
    {
     "name": "stdout",
     "output_type": "stream",
     "text": [
      "Enter a temperature (F): 212\n",
      "The temperature  212.0  Farenheit is the same as  100.0 Centigrade\n"
     ]
    }
   ],
   "source": [
    "def tempFtoC(tempF):\n",
    "    tempC=(5/9)*(tempF-32)\n",
    "    return (tempC)\n",
    "\n",
    "tF = float(input('Enter a temperature (F): '))\n",
    "tC = tempFtoC(tF)\n",
    "print('The temperature ', tF,' Farenheit is the same as ', tC, 'Centigrade')"
   ]
  },
  {
   "cell_type": "markdown",
   "metadata": {},
   "source": [
    "### Q4: Arithmetic and Function Practice\n",
    "\n",
    "Write a function that takes in two numbers as arguments and finds the quotient and remainder of the first input value, divided by the second input value. Return the string \"The quotient is _. The remainder is _\"  where the blanks include your answer. "
   ]
  },
  {
   "cell_type": "code",
   "execution_count": 27,
   "metadata": {},
   "outputs": [
    {
     "name": "stdout",
     "output_type": "stream",
     "text": [
      "enter the dividend: 5\n",
      "enter the divisor2\n",
      "The quotient is 2.0. The remainder is 1.0\n"
     ]
    }
   ],
   "source": [
    "def divisionFcn(dividend, divisor):\n",
    "    quotient = dividend//divisor\n",
    "    remainder = dividend - quotient*divisor\n",
    "    resultStr = \"The quotient is \"+str(quotient)+\". The remainder is \"+str(remainder)\n",
    "    return(resultStr)\n",
    "\n",
    "myDividend = float(input('enter the dividend: '))\n",
    "myDivisor = float(input('enter the divisor'))\n",
    "\n",
    "answer = divisionFcn(myDividend, myDivisor)\n",
    "print(str(answer))"
   ]
  },
  {
   "cell_type": "code",
   "execution_count": null,
   "metadata": {},
   "outputs": [],
   "source": []
  }
 ],
 "metadata": {
  "kernelspec": {
   "display_name": "Python 3",
   "language": "python",
   "name": "python3"
  },
  "language_info": {
   "codemirror_mode": {
    "name": "ipython",
    "version": 3
   },
   "file_extension": ".py",
   "mimetype": "text/x-python",
   "name": "python",
   "nbconvert_exporter": "python",
   "pygments_lexer": "ipython3",
   "version": "3.7.10"
  }
 },
 "nbformat": 4,
 "nbformat_minor": 2
}
